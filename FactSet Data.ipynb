{
 "cells": [
  {
   "cell_type": "code",
   "execution_count": 1,
   "id": "38524303",
   "metadata": {
    "ExecuteTime": {
     "end_time": "2021-09-14T05:42:11.924192Z",
     "start_time": "2021-09-14T05:42:09.548395Z"
    }
   },
   "outputs": [],
   "source": [
    "import pandas as pd\n",
    "import numpy as np\n",
    "import os\n",
    "import matplotlib.pyplot as plt\n",
    "import seaborn as sns\n",
    "import ipympl"
   ]
  },
  {
   "cell_type": "code",
   "execution_count": 2,
   "id": "8d96b1d6",
   "metadata": {
    "ExecuteTime": {
     "end_time": "2021-09-14T05:42:11.969661Z",
     "start_time": "2021-09-14T05:42:11.958682Z"
    }
   },
   "outputs": [],
   "source": [
    "%matplotlib widget   \n",
    "#Interactive Plot\n",
    "#%matplotlib inline  #Normal Plot"
   ]
  },
  {
   "cell_type": "code",
   "execution_count": 3,
   "id": "80271085",
   "metadata": {
    "ExecuteTime": {
     "end_time": "2021-09-14T05:42:12.015784Z",
     "start_time": "2021-09-14T05:42:12.001691Z"
    }
   },
   "outputs": [],
   "source": [
    "# Set Path\n",
    "path = 'D:\\\\Python\\\\TAA_Overlay'"
   ]
  },
  {
   "cell_type": "code",
   "execution_count": 4,
   "id": "12130a3d",
   "metadata": {
    "ExecuteTime": {
     "end_time": "2021-09-08T04:20:48.114113Z",
     "start_time": "2021-09-08T04:20:48.100708Z"
    }
   },
   "outputs": [],
   "source": [
    "# # (EXCEL) Import FactSet Data\n",
    "# fileName = 'FactsetData.xlsx'\n",
    "# # Daily Price Index Data\n",
    "# df = pd.ExcelFile(os.path.join(path, fileName))\n",
    "# sheet_list = df.sheet_names\n",
    "# d_dict = {}\n",
    "# for sheet in sheet_list :\n",
    "#    d_dict[sheet] = df.parse(sheet_name=sheet)\n",
    "\n",
    "# print(d_dict.keys())\n",
    "# # eq_idx = pd.read_excel(os.path.join(path, fileName), sheet_name='Multi_Eq_idx')\n",
    "# # eq_dt = pd.read_excel(os.path.join(path, fileName), sheet_name='Multi_Eq_dt')\n",
    "# # bd_idx = pd.read_excel(os.path.join(path, fileName), sheet_name='Multi_Bond_idx')\n",
    "# # bd_dt = pd.read_excel(os.path.join(path, fileName), sheet_name='Multi_Bond_dt')\n",
    "# # comm_idx = pd.read_excel(os.path.join(path, fileName), sheet_name='Multi_Com_idx')\n",
    "# # comm_dt = pd.read_excel(os.path.join(path, fileName), sheet_name='Multi_Com_dt')\n",
    "# # fx_idx = pd.read_excel(os.path.join(path, fileName), sheet_name='Multi_FX_idx')\n",
    "# # fx_dt = pd.read_excel(os.path.join(path, fileName), sheet_name='Multi_FX_dt')"
   ]
  },
  {
   "cell_type": "code",
   "execution_count": 5,
   "id": "f6d2dcf8",
   "metadata": {
    "ExecuteTime": {
     "end_time": "2021-09-08T04:20:48.160587Z",
     "start_time": "2021-09-08T04:20:48.146916Z"
    }
   },
   "outputs": [],
   "source": [
    "# d_eq = {}\n",
    "# for i in range(1,len(d_dict['Multi_Eq_idx'].columns)):\n",
    "#     d_eq[d_dict['Multi_Eq_idx'].iloc[0,i]] = pd.DataFrame(d_dict['Multi_Eq_idx'].iloc[1:,i].values, \n",
    "#                                                           index = pd.to_datetime(d_dict['Multi_Eq_dt'].iloc[1:,i]), \n",
    "#                                                           columns = [d_dict['Multi_Eq_idx'].iloc[0,i]],\n",
    "#                                                           dtype = float).dropna()\n",
    "\n",
    "# d_bd = {}\n",
    "# for i in range(1,len(d_dict['Multi_Bond_idx'].columns)):\n",
    "#     d_bd[d_dict['Multi_Bond_idx'].iloc[0,i]] = pd.DataFrame(d_dict['Multi_Bond_idx'].iloc[1:,i].values, \n",
    "#                                                           index = pd.to_datetime(d_dict['Multi_Bond_dt'].iloc[1:,i]), \n",
    "#                                                           columns = [d_dict['Multi_Bond_idx'].iloc[0,i]],\n",
    "#                                                           dtype = float).dropna()\n",
    "\n",
    "# d_fx = {}\n",
    "# for i in range(1,len(d_dict['Multi_FX_idx'].columns)):\n",
    "#     d_fx[d_dict['Multi_FX_idx'].iloc[0,i]] = pd.DataFrame(d_dict['Multi_FX_idx'].iloc[1:,i].values, \n",
    "#                                                           index = pd.to_datetime(d_dict['Multi_FX_dt'].iloc[1:,i]), \n",
    "#                                                           columns = [d_dict['Multi_FX_idx'].iloc[0,i]],\n",
    "#                                                           dtype = float).dropna()\n",
    "\n",
    "# d_comm = {}\n",
    "# for i in range(1,len(d_dict['Multi_Com_idx'].columns)):\n",
    "#     d_comm[d_dict['Multi_Com_idx'].iloc[0,i]] = pd.DataFrame(d_dict['Multi_Com_idx'].iloc[1:,i].values, \n",
    "#                                                           index = pd.to_datetime(d_dict['Multi_Com_dt'].iloc[1:,i]), \n",
    "#                                                           columns = [d_dict['Multi_Com_idx'].iloc[0,i]],\n",
    "#                                                           dtype = float).dropna()"
   ]
  },
  {
   "cell_type": "code",
   "execution_count": 6,
   "id": "0afbfca9",
   "metadata": {
    "ExecuteTime": {
     "end_time": "2021-09-08T04:20:48.207383Z",
     "start_time": "2021-09-08T04:20:48.192422Z"
    }
   },
   "outputs": [],
   "source": [
    "# d_eq_df = pd.DataFrame(index=d_eq['S&P 500'].index)\n",
    "# d_bd_df = pd.DataFrame(index=d_eq['S&P 500'].index)\n",
    "# d_fx_df = pd.DataFrame(index=d_eq['S&P 500'].index)\n",
    "# d_comm_df = pd.DataFrame(index=d_eq['S&P 500'].index)"
   ]
  },
  {
   "cell_type": "code",
   "execution_count": 7,
   "id": "98139e46",
   "metadata": {
    "ExecuteTime": {
     "end_time": "2021-09-08T04:20:48.255354Z",
     "start_time": "2021-09-08T04:20:48.241362Z"
    },
    "code_folding": []
   },
   "outputs": [],
   "source": [
    "# for entity in d_eq.values():\n",
    "#     d_eq_df = pd.merge(d_eq_df, entity, how='left', left_index=True, right_index=True)\n",
    "# for entity in d_bd.values():\n",
    "#     d_bd_df = pd.merge(d_bd_df, entity, how='left', left_index=True, right_index=True)\n",
    "# for entity in d_fx.values():\n",
    "#     d_fx_df = pd.merge(d_fx_df, entity, how='left', left_index=True, right_index=True)\n",
    "# for entity in d_comm.values():\n",
    "#     d_comm_df = pd.merge(d_comm_df, entity, how='left', left_index=True, right_index=True)"
   ]
  },
  {
   "cell_type": "code",
   "execution_count": 8,
   "id": "82dca49f",
   "metadata": {
    "ExecuteTime": {
     "end_time": "2021-09-08T04:20:48.302321Z",
     "start_time": "2021-09-08T04:20:48.292350Z"
    }
   },
   "outputs": [],
   "source": [
    "# #d_eq_df.isna().sum()\n",
    "# #'90년부터 데이터 누락 수 1,000개 이상 지표 제외 + 제외 후, na row 전부 제외\n",
    "# d_eq_pct = d_eq_df.loc[:,(d_eq_df.isna().sum() < 1000).values].pct_change(periods=1)\n",
    "# d_eq_pct.dropna(inplace=True)"
   ]
  },
  {
   "cell_type": "code",
   "execution_count": 9,
   "id": "1845f57f",
   "metadata": {
    "ExecuteTime": {
     "end_time": "2021-09-08T04:20:48.350284Z",
     "start_time": "2021-09-08T04:20:48.338318Z"
    }
   },
   "outputs": [],
   "source": [
    "# # Freq=M로 해서 지수들 간 correlation -> clustering \n",
    "# eq_corr = d_eq_pct.rolling(window=252).corr().dropna()\n",
    "# # (Base Data for clustering) list of correlations for each \n",
    "# eq_corr_df = pd.DataFrame()\n",
    "# for dt in eq_corr.index.get_level_values(level=0):\n",
    "#     tmp = np.array(eq_corr.xs(dt, axis=0))[np.triu_indices(eq_corr.shape[1], k=1)]\n",
    "#     eq_corr_df[dt] = tmp."
   ]
  },
  {
   "cell_type": "markdown",
   "id": "fbd880ab",
   "metadata": {},
   "source": [
    "Data Preparation"
   ]
  },
  {
   "cell_type": "code",
   "execution_count": 4,
   "id": "f6596d82",
   "metadata": {
    "ExecuteTime": {
     "end_time": "2021-09-14T05:42:19.789631Z",
     "start_time": "2021-09-14T05:42:18.283824Z"
    }
   },
   "outputs": [],
   "source": [
    "# (EXCEL) Import FactSet Data\n",
    "fileName = '(Blbg)TAAOverlayChartPack.xlsx'\n",
    "df = pd.ExcelFile(os.path.join(path, fileName))\n",
    "sheet_list = df.sheet_names"
   ]
  },
  {
   "cell_type": "code",
   "execution_count": 5,
   "id": "9c3c1653",
   "metadata": {
    "ExecuteTime": {
     "end_time": "2021-09-14T05:42:51.596772Z",
     "start_time": "2021-09-14T05:42:19.824365Z"
    }
   },
   "outputs": [],
   "source": [
    "blbg_data = {}\n",
    "for sheet in sheet_list:\n",
    "    blbg_data[sheet] = df.parse(sheet_name= sheet, header= 2).iloc[4:]\n",
    "    blbg_data[sheet].set_index('Unnamed: 0', inplace= True)\n",
    "    #blbg_data[sheet].iloc[:,1:].fillna(-999)\n",
    "    #blbg_data[sheet].iloc[:,1:] = blbg_data[sheet].iloc[:,1:].astype('float')\n",
    "    #blbg_data[sheet].iloc[:,1:].replace(-999, np.nan)\n",
    "    #blbg_data[sheet].iloc[:,0] = blbg_data[sheet].iloc[:,0].astype('datetime64[ns]')"
   ]
  },
  {
   "cell_type": "markdown",
   "id": "ef550998",
   "metadata": {},
   "source": [
    "# Sentiment"
   ]
  },
  {
   "cell_type": "code",
   "execution_count": 6,
   "id": "f56d138d",
   "metadata": {
    "ExecuteTime": {
     "end_time": "2021-09-14T05:59:47.054985Z",
     "start_time": "2021-09-14T05:59:46.091150Z"
    },
    "scrolled": false
   },
   "outputs": [
    {
     "data": {
      "application/vnd.jupyter.widget-view+json": {
       "model_id": "3149d46682164c9ea35099e3bfdd0faa",
       "version_major": 2,
       "version_minor": 0
      },
      "text/plain": [
       "Canvas(toolbar=Toolbar(toolitems=[('Home', 'Reset original view', 'home', 'home'), ('Back', 'Back to previous …"
      ]
     },
     "metadata": {},
     "output_type": "display_data"
    }
   ],
   "source": [
    "# Sentiment \n",
    "blbg_data['Senti'].sort_index(inplace=True)\n",
    "plot_col = blbg_data['Senti'].columns\n",
    "\n",
    "fig, axes = plt.subplots(4, 3, figsize = (15,10))\n",
    "fig.suptitle('Market Sentiment', size=20)\n",
    "blbg_data['Senti'][plot_col].plot(subplots=True, ax=axes.flatten()[:len(plot_col)], color = 'gray')\n",
    "\n",
    "for ax, col in zip(axes.flatten(), plot_col):\n",
    "    #print(ax)\n",
    "    ax.set_title(col)\n",
    "    ax.set_xlabel('Date')\n",
    "    ax.get_legend().remove()\n",
    "\n",
    "plt.tight_layout()\n",
    "plt.show()"
   ]
  },
  {
   "cell_type": "markdown",
   "id": "e9365ff7",
   "metadata": {},
   "source": [
    "# Equity"
   ]
  },
  {
   "cell_type": "code",
   "execution_count": 6,
   "id": "2dbb1384",
   "metadata": {
    "ExecuteTime": {
     "end_time": "2021-09-13T06:32:02.471735Z",
     "start_time": "2021-09-13T06:32:02.453784Z"
    }
   },
   "outputs": [],
   "source": [
    "st_dt = pd.to_datetime('2000-01-01')"
   ]
  },
  {
   "cell_type": "code",
   "execution_count": 7,
   "id": "e207bff1",
   "metadata": {
    "ExecuteTime": {
     "end_time": "2021-09-13T06:32:05.058121Z",
     "start_time": "2021-09-13T06:32:05.007052Z"
    },
    "scrolled": true
   },
   "outputs": [
    {
     "name": "stderr",
     "output_type": "stream",
     "text": [
      "C:\\Users\\infomax\\Anaconda3\\lib\\site-packages\\pandas\\core\\frame.py:5582: SettingWithCopyWarning: \n",
      "A value is trying to be set on a copy of a slice from a DataFrame\n",
      "\n",
      "See the caveats in the documentation: https://pandas.pydata.org/pandas-docs/stable/user_guide/indexing.html#returning-a-view-versus-a-copy\n",
      "  return super().sort_index(\n"
     ]
    }
   ],
   "source": [
    "eq_country = blbg_data['EQ_Region'][['MSCI ACWI', 'MSCI WORLD', 'MSCI USA', 'MSCI AC EUROPE', 'MSCI AC Asia Pacific USD', \n",
    "                                     'MSCI AC AMERICAS', 'MSCI AC FAR EAST', 'MSCI EM']]\n",
    "eq_country.sort_index(inplace=True)\n",
    "eq_sector = blbg_data['EQ_Sector'][['MSCI WORLD/ENERGY', 'MSCI WORLD/MATERIAL', 'MSCI WORLD/INDUSTRL', \n",
    "                                   'MSCI WORLD/CONS DIS', 'MSCI WORLD/CON STPL', 'MSCI WORLD/HLTH CARE', 'MSCI WORLD/FINANCE',\n",
    "                                   'MSCI WORLD/INF TECH', 'MSCI WRLD/COMM SVC', 'MSCI WORLD/UTILITY']]\n",
    "eq_sector.sort_index(inplace=Trube)\n",
    "eq_usa_sector = blbg_data['EQ_US_Sector'][['MSCI USA/ENERGY', 'MSCI USA/MATERIAL', 'MSCI USA/INDUSTRL', 'MSCI USA/CONS DIS', \n",
    "                                           'MSCI USA/CON STPL', 'MSCI USA/HLTH CARE', 'MSCI USA/FINANCE', 'MSCI USA/INF TECH',\n",
    "                                           'MSCI USA/COMM SVC', 'MSCI USA/UTILITY']]\n",
    "eq_usa_sector.sort_index(inplace=True)"
   ]
  },
  {
   "cell_type": "code",
   "execution_count": 10,
   "id": "1b117ff1",
   "metadata": {
    "ExecuteTime": {
     "end_time": "2021-09-13T06:35:24.240602Z",
     "start_time": "2021-09-13T06:35:24.208714Z"
    }
   },
   "outputs": [],
   "source": [
    "# Remove NaT Index\n",
    "eq_country = eq_country.loc[~eq_country.index.isin([pd.NaT]),:]\n",
    "eq_sector = eq_sector.loc[~eq_sector.index.isin([pd.NaT]),:]\n",
    "eq_usa_sector = eq_usa_sector.loc[~eq_usa_sector.index.isin([pd.NaT]),:]"
   ]
  },
  {
   "cell_type": "code",
   "execution_count": 58,
   "id": "3e7f3640",
   "metadata": {
    "ExecuteTime": {
     "end_time": "2021-09-13T07:22:53.454056Z",
     "start_time": "2021-09-13T07:22:53.439097Z"
    }
   },
   "outputs": [
    {
     "data": {
      "text/plain": [
       "MSCI USA/INF TECH     646.47\n",
       "MSCI USA/CONS DIS     623.43\n",
       "MSCI USA/HLTH CARE    445.89\n",
       "Name: 2021-09-06 00:00:00, dtype: float64"
      ]
     },
     "execution_count": 58,
     "metadata": {},
     "output_type": "execute_result"
    }
   ],
   "source": [
    "a=eq_usa_sector.iloc[-1,:].astype('float64').sort_values(ascending= False)\n",
    "a.loc[a.index[:3]]"
   ]
  },
  {
   "cell_type": "code",
   "execution_count": 42,
   "id": "d8925037",
   "metadata": {
    "ExecuteTime": {
     "end_time": "2021-09-13T07:08:59.863605Z",
     "start_time": "2021-09-13T07:08:59.856624Z"
    }
   },
   "outputs": [],
   "source": [
    "# Function for graph and dataframe\n",
    "def orderly_graph(main_price_df, start_dt, df_out, plot_num, fig_title):\n",
    "    \n",
    "    col_num = len(main_price_df.columns)\n",
    "    main_price_tmp = main_price_df.loc[pd.to_datetime(start_dt):]\n",
    "    main_price_tmp = main_price_tmp.dropna()\n",
    "    \n",
    "    cumreturn_df = (1+main_price_tmp.pct_change()).cumprod()\n",
    "    logcumreturn_df = np.log(cumreturn_df)\n",
    "    \n",
    "    df_rt_last = cumreturn_df.iloc[-1,:].astype('float64').sort_values(ascending= False)\n",
    "    rank_idx = df_rt_last.index\n",
    "    \n",
    "    if df_out == True:\n",
    "        display(pd.DataFrame(df_rt_last - 1))\n",
    "        \n",
    "    oneplot_colnum = (col_num // plot_num)\n",
    "    \n",
    "    fig, axes = plt.subplots(plot_num, 1, figsize = (20,10))\n",
    "    fig.suptitle(fig_title, fontsize=16)\n",
    "    colormap = 'winter'\n",
    "    \n",
    "    for axnum in range(plot_num):\n",
    "        logcumreturn_df.loc[rank_idx[]].plot(ax=axes[axnum,0], cmap=colormap)\n",
    "\n",
    "    for ax, countryname in zip(axes.flatten()[:-1], country_full):\n",
    "\n",
    "        ax.set_xlabel('Date')\n",
    "        ax.set_ylabel('Log Return')\n",
    "        ax.get_legend().remove()\n",
    "        ax.axhline(y=0, color='k', linestyle='-')\n",
    "\n",
    "    axes[2,1].set_title('Spread btw Country(10yrs)')\n",
    "    axes[2,1].set_xlabel('Date')\n",
    "    axes[2,1].axhline(y=0, color='k', linestyle='-')\n"
   ]
  },
  {
   "cell_type": "code",
   "execution_count": 49,
   "id": "734e1d2b",
   "metadata": {
    "ExecuteTime": {
     "end_time": "2021-09-13T07:09:48.280435Z",
     "start_time": "2021-09-13T07:09:48.257525Z"
    }
   },
   "outputs": [
    {
     "data": {
      "text/html": [
       "<div>\n",
       "<style scoped>\n",
       "    .dataframe tbody tr th:only-of-type {\n",
       "        vertical-align: middle;\n",
       "    }\n",
       "\n",
       "    .dataframe tbody tr th {\n",
       "        vertical-align: top;\n",
       "    }\n",
       "\n",
       "    .dataframe thead th {\n",
       "        text-align: right;\n",
       "    }\n",
       "</style>\n",
       "<table border=\"1\" class=\"dataframe\">\n",
       "  <thead>\n",
       "    <tr style=\"text-align: right;\">\n",
       "      <th></th>\n",
       "      <th>2021-09-06</th>\n",
       "    </tr>\n",
       "  </thead>\n",
       "  <tbody>\n",
       "    <tr>\n",
       "      <th>MSCI USA/COMM SVC</th>\n",
       "      <td>0.045694</td>\n",
       "    </tr>\n",
       "    <tr>\n",
       "      <th>MSCI USA/FINANCE</th>\n",
       "      <td>0.042851</td>\n",
       "    </tr>\n",
       "    <tr>\n",
       "      <th>MSCI USA/INF TECH</th>\n",
       "      <td>0.042475</td>\n",
       "    </tr>\n",
       "    <tr>\n",
       "      <th>MSCI USA/UTILITY</th>\n",
       "      <td>0.039594</td>\n",
       "    </tr>\n",
       "    <tr>\n",
       "      <th>MSCI USA/HLTH CARE</th>\n",
       "      <td>0.032774</td>\n",
       "    </tr>\n",
       "    <tr>\n",
       "      <th>MSCI USA/MATERIAL</th>\n",
       "      <td>0.026670</td>\n",
       "    </tr>\n",
       "    <tr>\n",
       "      <th>MSCI USA/CON STPL</th>\n",
       "      <td>0.023267</td>\n",
       "    </tr>\n",
       "    <tr>\n",
       "      <th>MSCI USA/CONS DIS</th>\n",
       "      <td>0.017214</td>\n",
       "    </tr>\n",
       "    <tr>\n",
       "      <th>MSCI USA/INDUSTRL</th>\n",
       "      <td>0.014262</td>\n",
       "    </tr>\n",
       "    <tr>\n",
       "      <th>MSCI USA/ENERGY</th>\n",
       "      <td>-0.017568</td>\n",
       "    </tr>\n",
       "  </tbody>\n",
       "</table>\n",
       "</div>"
      ],
      "text/plain": [
       "                    2021-09-06\n",
       "MSCI USA/COMM SVC     0.045694\n",
       "MSCI USA/FINANCE      0.042851\n",
       "MSCI USA/INF TECH     0.042475\n",
       "MSCI USA/UTILITY      0.039594\n",
       "MSCI USA/HLTH CARE    0.032774\n",
       "MSCI USA/MATERIAL     0.026670\n",
       "MSCI USA/CON STPL     0.023267\n",
       "MSCI USA/CONS DIS     0.017214\n",
       "MSCI USA/INDUSTRL     0.014262\n",
       "MSCI USA/ENERGY      -0.017568"
      ]
     },
     "metadata": {},
     "output_type": "display_data"
    }
   ],
   "source": [
    "orderly_graph(eq_usa_sector, '2021-07-31', True, 3)"
   ]
  },
  {
   "cell_type": "code",
   "execution_count": 12,
   "id": "74ab21cf",
   "metadata": {
    "ExecuteTime": {
     "end_time": "2021-09-13T06:35:58.981973Z",
     "start_time": "2021-09-13T06:35:58.901517Z"
    }
   },
   "outputs": [],
   "source": [
    "eq_country_idx = (1+eq_country.loc[st_dt:].dropna().pct_change()).cumprod()\n",
    "eq_country_idx.iloc[0,:] = 1"
   ]
  },
  {
   "cell_type": "code",
   "execution_count": 13,
   "id": "2a829465",
   "metadata": {
    "ExecuteTime": {
     "end_time": "2021-09-13T06:36:14.124910Z",
     "start_time": "2021-09-13T06:36:14.022646Z"
    }
   },
   "outputs": [],
   "source": [
    "eq_country_idx = (1+eq_country.loc[st_dt:].dropna().pct_change()).cumprod()\n",
    "eq_country_idx.iloc[0,:] = 1\n",
    "eq_sector_idx = (1+eq_sector.loc[st_dt:].dropna().pct_change()).cumprod()\n",
    "eq_sector_idx.iloc[0,:] = 1\n",
    "eq_usa_sector_idx = (1+eq_usa_sector.loc[st_dt:].dropna().pct_change()).cumprod()\n",
    "eq_usa_sector_idx.iloc[0,:] = 1"
   ]
  },
  {
   "cell_type": "code",
   "execution_count": 20,
   "id": "f7cf651b",
   "metadata": {
    "ExecuteTime": {
     "end_time": "2021-09-13T06:40:45.717219Z",
     "start_time": "2021-09-13T06:40:45.454598Z"
    },
    "scrolled": true
   },
   "outputs": [
    {
     "data": {
      "application/vnd.jupyter.widget-view+json": {
       "model_id": "eb0ebda705324aea9e1e6f456a5e866d",
       "version_major": 2,
       "version_minor": 0
      },
      "text/plain": [
       "Canvas(toolbar=Toolbar(toolitems=[('Home', 'Reset original view', 'home', 'home'), ('Back', 'Back to previous …"
      ]
     },
     "metadata": {},
     "output_type": "display_data"
    },
    {
     "data": {
      "text/plain": [
       "<AxesSubplot:xlabel='Unnamed: 0'>"
      ]
     },
     "execution_count": 20,
     "metadata": {},
     "output_type": "execute_result"
    }
   ],
   "source": [
    "np.log(eq_usa_sector_idx).plot()"
   ]
  },
  {
   "cell_type": "code",
   "execution_count": 21,
   "id": "2c136c6e",
   "metadata": {
    "ExecuteTime": {
     "end_time": "2021-09-13T06:44:58.039064Z",
     "start_time": "2021-09-13T06:44:58.032053Z"
    }
   },
   "outputs": [
    {
     "data": {
      "text/plain": [
       "3.4816890703380645"
      ]
     },
     "execution_count": 21,
     "metadata": {},
     "output_type": "execute_result"
    }
   ],
   "source": [
    "np.exp(1.5)-1"
   ]
  },
  {
   "cell_type": "code",
   "execution_count": 14,
   "id": "94052694",
   "metadata": {
    "ExecuteTime": {
     "end_time": "2021-09-13T06:36:15.157224Z",
     "start_time": "2021-09-13T06:36:14.839585Z"
    }
   },
   "outputs": [
    {
     "data": {
      "application/vnd.jupyter.widget-view+json": {
       "model_id": "8698fcc988d84b56856e14f7860a0298",
       "version_major": 2,
       "version_minor": 0
      },
      "text/plain": [
       "Canvas(toolbar=Toolbar(toolitems=[('Home', 'Reset original view', 'home', 'home'), ('Back', 'Back to previous …"
      ]
     },
     "metadata": {},
     "output_type": "display_data"
    }
   ],
   "source": [
    "eq_usa_sector_idx.plot()\n",
    "plt.show()"
   ]
  },
  {
   "cell_type": "markdown",
   "id": "2fc34a59",
   "metadata": {},
   "source": [
    "# Bonds"
   ]
  },
  {
   "cell_type": "markdown",
   "id": "676a9626",
   "metadata": {},
   "source": [
    "## Treasury"
   ]
  },
  {
   "cell_type": "code",
   "execution_count": 96,
   "id": "4b85a4b0",
   "metadata": {
    "ExecuteTime": {
     "end_time": "2021-09-08T06:45:39.687435Z",
     "start_time": "2021-09-08T06:45:39.674439Z"
    }
   },
   "outputs": [],
   "source": [
    "blbg_data['FI_Treasury'].columns = ['us0', 'us2', 'us10', 'us30', 'usbe5', 'usbe10', 'gm0', 'gm2', 'gm10', 'gm30', 'gmbe5', 'gmbe10',\n",
    "                                   'uk0', 'uk2', 'uk10', 'uk30', 'ukbe5', 'ukbe10', 'jp0', 'jp2', 'jp10', 'jp30', 'jpbe5', 'jpbe10', \n",
    "                                    'sk0', 'sk3', 'sk10', 'sk30', 'skbe10']\n",
    "blbg_data['FI_Treasury'] = blbg_data['FI_Treasury'].loc[~blbg_data['FI_Treasury'].index.isin([pd.NaT]),:]\n",
    "\n",
    "country = ['us', 'gm', 'uk', 'jp', 'sk']\n",
    "country_full = ['United States', 'Germany', 'United Kingdom', 'Japan', 'South Korea']"
   ]
  },
  {
   "cell_type": "code",
   "execution_count": 97,
   "id": "faeeb81c",
   "metadata": {
    "ExecuteTime": {
     "end_time": "2021-09-08T06:45:40.364968Z",
     "start_time": "2021-09-08T06:45:40.352003Z"
    }
   },
   "outputs": [],
   "source": [
    "us_t = blbg_data['FI_Treasury'].iloc[:,:6]\n",
    "gm_t = blbg_data['FI_Treasury'].iloc[:,6:12]\n",
    "uk_t = blbg_data['FI_Treasury'].iloc[:,12:18]\n",
    "jp_t = blbg_data['FI_Treasury'].iloc[:,18:24]\n",
    "sk_t = blbg_data['FI_Treasury'].iloc[:,24:29]\n",
    "country_t = pd.DataFrame()"
   ]
  },
  {
   "cell_type": "code",
   "execution_count": 98,
   "id": "f8b64e0c",
   "metadata": {
    "ExecuteTime": {
     "end_time": "2021-09-08T06:45:42.845110Z",
     "start_time": "2021-09-08T06:45:42.751336Z"
    }
   },
   "outputs": [
    {
     "name": "stderr",
     "output_type": "stream",
     "text": [
      "C:\\Users\\infomax\\Anaconda3\\lib\\site-packages\\pandas\\core\\indexing.py:1597: SettingWithCopyWarning: \n",
      "A value is trying to be set on a copy of a slice from a DataFrame.\n",
      "Try using .loc[row_indexer,col_indexer] = value instead\n",
      "\n",
      "See the caveats in the documentation: https://pandas.pydata.org/pandas-docs/stable/user_guide/indexing.html#returning-a-view-versus-a-copy\n",
      "  self.obj[key] = value\n",
      "C:\\Users\\infomax\\Anaconda3\\lib\\site-packages\\pandas\\core\\indexing.py:1676: SettingWithCopyWarning: \n",
      "A value is trying to be set on a copy of a slice from a DataFrame.\n",
      "Try using .loc[row_indexer,col_indexer] = value instead\n",
      "\n",
      "See the caveats in the documentation: https://pandas.pydata.org/pandas-docs/stable/user_guide/indexing.html#returning-a-view-versus-a-copy\n",
      "  self._setitem_single_column(ilocs[0], value, pi)\n"
     ]
    }
   ],
   "source": [
    "for country, df in zip(country, [us_t, gm_t, uk_t, jp_t, sk_t]):\n",
    "    if country != 'sk':\n",
    "        df.loc[:, country+'SP'+'(2-0)'] = df[country+'2']-df[country+'0']\n",
    "        df.loc[:, country+'SP'+'(10-2)'] = df[country+'10']-df[country+'2']\n",
    "        df.loc[:, country+'SP'+'(30-10)'] = df[country+'30']-df[country+'10']\n",
    "        df.loc[:, country+'Real(10)'] = df[country+'10']-df[country+'be10']\n",
    "    else:\n",
    "        df.loc[:, country+'SP'+'(3-0)'] = df[country+'3']-df[country+'0']\n",
    "        df.loc[:, country+'SP'+'(10-3)'] = df[country+'10']-df[country+'3']\n",
    "        df.loc[:, country+'SP'+'(30-10)'] = df[country+'30']-df[country+'10']\n",
    "        df.loc[:, country+'Real(10)'] = df[country+'10']-df[country+'be10']\n",
    "\n",
    "country_t['us-gm'] = us_t.loc[:, 'us10'] -gm_t.loc[:, 'gm10']\n",
    "country_t['us-uk'] = us_t.loc[:, 'us10'] -uk_t.loc[:, 'uk10']\n",
    "country_t['sk-us'] = sk_t.loc[:, 'sk10'] -us_t.loc[:, 'us10']"
   ]
  },
  {
   "cell_type": "markdown",
   "id": "25824e7c",
   "metadata": {},
   "source": [
    "### Treasury Spread"
   ]
  },
  {
   "cell_type": "code",
   "execution_count": 99,
   "id": "1b8fbc8f",
   "metadata": {
    "ExecuteTime": {
     "end_time": "2021-09-08T06:45:45.734618Z",
     "start_time": "2021-09-08T06:45:45.171095Z"
    },
    "scrolled": true
   },
   "outputs": [
    {
     "data": {
      "application/vnd.jupyter.widget-view+json": {
       "model_id": "ebdd97ae00384e27a67cb59acdb4e00d",
       "version_major": 2,
       "version_minor": 0
      },
      "text/plain": [
       "Canvas(toolbar=Toolbar(toolitems=[('Home', 'Reset original view', 'home', 'home'), ('Back', 'Back to previous …"
      ]
     },
     "metadata": {},
     "output_type": "display_data"
    }
   ],
   "source": [
    "fig, axes = plt.subplots(3, 2, figsize = (15,10))\n",
    "fig.suptitle('Treasury Spread', fontsize=16)\n",
    "colormap = 'winter'\n",
    "us_t.iloc[:, 6:-1].plot(ax=axes[0,0], cmap=colormap)\n",
    "gm_t.iloc[:, 6:-1].plot(ax=axes[0,1], cmap=colormap)\n",
    "uk_t.iloc[:, 6:-1].plot(ax=axes[1,0], cmap=colormap)\n",
    "jp_t.iloc[:, 6:-1].plot(ax=axes[1,1], cmap=colormap)\n",
    "sk_t.iloc[:, 5:-1].plot(ax=axes[2,0], cmap=colormap)\n",
    "country_t.plot(ax=axes[2,1], cmap=colormap)\n",
    "\n",
    "for ax, countryname in zip(axes.flatten()[:-1], country_full):\n",
    "    ax.set_title(countryname)\n",
    "    ax.set_xlabel('Date')\n",
    "    ax.get_legend().remove()\n",
    "    ax.axhline(y=0, color='k', linestyle='-')\n",
    "\n",
    "axes[2,1].set_title('Spread btw Country(10yrs)')\n",
    "axes[2,1].set_xlabel('Date')\n",
    "axes[2,1].axhline(y=0, color='k', linestyle='-')\n",
    "\n",
    "plt.tight_layout()\n",
    "lines, labels = axes.flatten()[-2].get_legend_handles_labels()\n",
    "fig.legend(lines, [ e[2:] for e in labels ], loc='lower center')\n",
    "\n",
    "plt.show()"
   ]
  },
  {
   "cell_type": "markdown",
   "id": "b4532d9a",
   "metadata": {},
   "source": [
    "### Real Rate & BEI"
   ]
  },
  {
   "cell_type": "code",
   "execution_count": 64,
   "id": "b1a8335f",
   "metadata": {
    "ExecuteTime": {
     "end_time": "2021-09-08T06:11:04.938287Z",
     "start_time": "2021-09-08T06:11:04.403713Z"
    },
    "scrolled": true
   },
   "outputs": [
    {
     "data": {
      "application/vnd.jupyter.widget-view+json": {
       "model_id": "74a80922e8a2415ca23993b91c267d39",
       "version_major": 2,
       "version_minor": 0
      },
      "text/plain": [
       "Canvas(toolbar=Toolbar(toolitems=[('Home', 'Reset original view', 'home', 'home'), ('Back', 'Back to previous …"
      ]
     },
     "metadata": {},
     "output_type": "display_data"
    }
   ],
   "source": [
    "fig, axes = plt.subplots(3, 2, figsize = (15,10))\n",
    "fig.suptitle('Real Rates & BEI based on 10Yr', fontsize=16)\n",
    "colormap = 'winter'\n",
    "us_t.iloc[:, [5, -1]].plot(ax=axes[0,0], cmap=colormap)\n",
    "gm_t.iloc[:, [5, -1]].plot(ax=axes[0,1], cmap=colormap)\n",
    "uk_t.iloc[:, [5, -1]].plot(ax=axes[1,0], cmap=colormap)\n",
    "jp_t.iloc[:, [5, -1]].plot(ax=axes[1,1], cmap=colormap)\n",
    "sk_t.iloc[:, [4, -1]].plot(ax=axes[2,0], cmap=colormap)\n",
    "\n",
    "for ax, countryname in zip(axes.flatten()[:-1], country_full):\n",
    "    ax.set_title(countryname)\n",
    "    ax.set_xlabel('Date')\n",
    "    ax.get_legend().remove()\n",
    "    ax.axhline(y=0, color='k', linestyle='-')\n",
    "\n",
    "plt.tight_layout()\n",
    "lines, labels = axes.flatten()[-2].get_legend_handles_labels()\n",
    "fig.legend(lines, ['BEI', 'Real Rates'], loc='lower center')\n",
    "\n",
    "plt.show()"
   ]
  },
  {
   "cell_type": "markdown",
   "id": "12b01899",
   "metadata": {},
   "source": [
    "## ST Market & Credit"
   ]
  },
  {
   "cell_type": "code",
   "execution_count": 65,
   "id": "503da441",
   "metadata": {
    "ExecuteTime": {
     "end_time": "2021-09-08T06:11:08.204961Z",
     "start_time": "2021-09-08T06:11:08.187010Z"
    }
   },
   "outputs": [],
   "source": [
    "st_dt = pd.to_datetime('2000-01-01')"
   ]
  },
  {
   "cell_type": "code",
   "execution_count": 68,
   "id": "6d52308d",
   "metadata": {
    "ExecuteTime": {
     "end_time": "2021-09-08T06:12:14.715676Z",
     "start_time": "2021-09-08T06:12:14.694732Z"
    }
   },
   "outputs": [],
   "source": [
    "base_df = blbg_data['FI_Credit'].sort_index()\n",
    "base_df = base_df.loc[~base_df.index.isin([pd.NaT]),:]"
   ]
  },
  {
   "cell_type": "code",
   "execution_count": 69,
   "id": "e6b1b8f6",
   "metadata": {
    "ExecuteTime": {
     "end_time": "2021-09-08T06:12:16.270119Z",
     "start_time": "2021-09-08T06:12:16.261116Z"
    }
   },
   "outputs": [],
   "source": [
    "lois = (base_df.loc[:,'ICE LIBOR USD 3M'] - base_df.loc[:,'USD SWAP OIS 3M']) * 100\n",
    "eureonia = (base_df.loc[:,'Euribor 3 Month ACT/360'] - base_df.loc[:,'EUR SWAP (EONIA)  3M']) * 100"
   ]
  },
  {
   "cell_type": "code",
   "execution_count": 70,
   "id": "86bad244",
   "metadata": {
    "ExecuteTime": {
     "end_time": "2021-09-08T06:12:18.836659Z",
     "start_time": "2021-09-08T06:12:18.123539Z"
    }
   },
   "outputs": [
    {
     "data": {
      "application/vnd.jupyter.widget-view+json": {
       "model_id": "2d7af11f308c4069a17fc24516ee9e4b",
       "version_major": 2,
       "version_minor": 0
      },
      "text/plain": [
       "Canvas(toolbar=Toolbar(toolitems=[('Home', 'Reset original view', 'home', 'home'), ('Back', 'Back to previous …"
      ]
     },
     "metadata": {},
     "output_type": "display_data"
    }
   ],
   "source": [
    "fig, axes = plt.subplots(3, 2, figsize = (15,10))\n",
    "fig.suptitle('Liquidity and Credit Market', fontsize=16)\n",
    "colormap = 'winter'\n",
    "lois.dropna().plot(ax=axes[0,0], c = 'gray')\n",
    "axes[0,0].set_title('LOIS (bp)')\n",
    "eureonia.dropna().plot(ax=axes[0,1], c = 'gray')\n",
    "axes[0,1].set_title('EURIBOR-EONIA (bp))')\n",
    "base_df.loc[:,'USD IG All Sectors OAS'].dropna().plot(ax=axes[1,0], c = 'gray')\n",
    "axes[1,0].set_title('USD IG All Sectors OAS (bp))')\n",
    "base_df.loc[:,'USD HY All Sectors OAS'].dropna().plot(ax=axes[1,1], c = 'gray')\n",
    "axes[1,1].set_title('USD HY All Sectors OAS (bp))')\n",
    "base_df.loc[:,'EUR IG All Sectors OAS'].dropna().plot(ax=axes[2,0], c = 'gray')\n",
    "axes[2,0].set_title('EUR IG All Sectors OAS (bp))')\n",
    "base_df.loc[:,'EUR HY All Sectors OAS'].dropna().plot(ax=axes[2,1], c = 'gray')\n",
    "axes[2,1].set_title('EUR HY All Sectors OAS (bp))')\n",
    "\n",
    "for ax in axes.flatten()[:-1]:\n",
    "    ax.set_xlabel('Date')\n",
    "    #ax.get_legend().remove()\n",
    "    ax.axhline(y=0, color='k', linestyle='-')\n",
    "\n",
    "plt.tight_layout()\n",
    "plt.show()"
   ]
  },
  {
   "cell_type": "markdown",
   "id": "bb895c03",
   "metadata": {},
   "source": [
    "# Commodity"
   ]
  },
  {
   "cell_type": "code",
   "execution_count": 71,
   "id": "062a5487",
   "metadata": {
    "ExecuteTime": {
     "end_time": "2021-09-08T06:12:23.634314Z",
     "start_time": "2021-09-08T06:12:23.619354Z"
    }
   },
   "outputs": [],
   "source": [
    "st_dt = pd.to_datetime('2010-01-01')"
   ]
  },
  {
   "cell_type": "code",
   "execution_count": 83,
   "id": "b0a59d96",
   "metadata": {
    "ExecuteTime": {
     "end_time": "2021-09-08T06:13:43.413825Z",
     "start_time": "2021-09-08T06:13:43.397876Z"
    }
   },
   "outputs": [],
   "source": [
    "base_df = blbg_data['Comm'].sort_index()\n",
    "base_df = base_df.loc[~base_df.index.isin([pd.NaT]),:]"
   ]
  },
  {
   "cell_type": "code",
   "execution_count": 84,
   "id": "30067624",
   "metadata": {
    "ExecuteTime": {
     "end_time": "2021-09-08T06:13:43.876039Z",
     "start_time": "2021-09-08T06:13:43.833727Z"
    }
   },
   "outputs": [],
   "source": [
    "WTI = base_df.loc[:,[\"Generic 1st 'CL' Future\", 'NYM Crude Oil Net NCFP']].dropna()\n",
    "oil_stocks = base_df.loc[:,['DOE Crude Oil Stocks Excl. SPR','DOE Total Motor Gas Inventory','DOE Dist Fuel Oil Tot Invent']].dropna()\n",
    "Gold = base_df.loc[:,[\"Generic 1st 'GC' Future\", 'CMX Gold Net NCFP']].dropna()\n",
    "Copper = base_df.loc[:,[\"Generic 1st 'LP' Future\", 'CMX HG Copper Net NCFP']].dropna()\n",
    "Soybeans = base_df.loc[:,[\"Generic 1st 'S ' Future\", 'CBT Soybeans Net NCFP']].dropna()"
   ]
  },
  {
   "cell_type": "code",
   "execution_count": 85,
   "id": "4de3c022",
   "metadata": {
    "ExecuteTime": {
     "end_time": "2021-09-08T06:13:45.551558Z",
     "start_time": "2021-09-08T06:13:44.266013Z"
    }
   },
   "outputs": [
    {
     "data": {
      "application/vnd.jupyter.widget-view+json": {
       "model_id": "c62c8d5d51d941d88eccba959c756a18",
       "version_major": 2,
       "version_minor": 0
      },
      "text/plain": [
       "Canvas(toolbar=Toolbar(toolitems=[('Home', 'Reset original view', 'home', 'home'), ('Back', 'Back to previous …"
      ]
     },
     "metadata": {},
     "output_type": "display_data"
    }
   ],
   "source": [
    "fig, axes = plt.subplots(3, 2, figsize = (15,10))\n",
    "fig.suptitle('Commodity', fontsize=16)\n",
    "colormap = 'winter'\n",
    "\n",
    "base_df.loc[:, 'BBG Commodity'].plot(ax=axes[0,0], c='gray')\n",
    "axes[0,0].set_title('BCOM Index')\n",
    "\n",
    "WTI.iloc[:,0].plot(ax=axes[0,1], c='k')\n",
    "axes[0,1].set_ylabel(\"Price\",color=\"k\",fontsize=12)\n",
    "ax2=axes[0,1].twinx()\n",
    "WTI.iloc[:,1].plot(ax=ax2, c='gray')\n",
    "ax2.set_ylabel(\"NCFP\",color=\"gray\",fontsize=12)\n",
    "ax2.axhline(y=0, color='b', linestyle='-')\n",
    "axes[0,1].set_title('WTI')\n",
    "\n",
    "Gold.iloc[:,0].plot(ax=axes[1,0], c='k')\n",
    "axes[1,0].set_ylabel(\"Price\",color=\"k\",fontsize=12)\n",
    "ax2=axes[1,0].twinx()\n",
    "Gold.iloc[:,1].plot(ax=ax2, c='gray')\n",
    "ax2.set_ylabel(\"NCFP\",color=\"gray\",fontsize=12)\n",
    "ax2.axhline(y=0, color='b', linestyle='-')\n",
    "axes[1,0].set_title('Gold')\n",
    "\n",
    "Copper.iloc[:,0].plot(ax=axes[1,1], c='k')\n",
    "axes[1,1].set_ylabel(\"Price\",color=\"k\",fontsize=12)\n",
    "ax2=axes[1,1].twinx()\n",
    "Copper.iloc[:,1].plot(ax=ax2, c='gray')\n",
    "ax2.set_ylabel(\"NCFP\",color=\"gray\",fontsize=12)\n",
    "ax2.axhline(y=0, color='b', linestyle='-')\n",
    "axes[1,1].set_title('Copper')\n",
    "\n",
    "Soybeans.iloc[:,0].plot(ax=axes[2,0], c='k')\n",
    "axes[2,0].set_ylabel(\"Price\",color=\"k\",fontsize=12)\n",
    "ax2=axes[2,0].twinx()\n",
    "Soybeans.iloc[:,1].plot(ax=ax2, c='gray')\n",
    "ax2.set_ylabel(\"NCFP\",color=\"gray\",fontsize=12)\n",
    "ax2.axhline(y=0, color='b', linestyle='-')\n",
    "axes[2,0].set_title('Soybeans')\n",
    "\n",
    "oil_stocks.plot(ax=axes[2,1], cmap = colormap)\n",
    "\n",
    "\n",
    "for ax in axes.flatten()[:-1]:\n",
    "    ax.set_xlabel('Date')\n",
    "\n",
    "plt.tight_layout()\n",
    "plt.show()"
   ]
  },
  {
   "cell_type": "markdown",
   "id": "3f25a253",
   "metadata": {},
   "source": [
    "# FX"
   ]
  },
  {
   "cell_type": "code",
   "execution_count": 78,
   "id": "c2010ecd",
   "metadata": {
    "ExecuteTime": {
     "end_time": "2021-09-08T06:13:12.511281Z",
     "start_time": "2021-09-08T06:13:12.500310Z"
    }
   },
   "outputs": [],
   "source": [
    "st_dt = pd.to_datetime('2000-01-01')"
   ]
  },
  {
   "cell_type": "code",
   "execution_count": 81,
   "id": "b3465d7f",
   "metadata": {
    "ExecuteTime": {
     "end_time": "2021-09-08T06:13:30.341850Z",
     "start_time": "2021-09-08T06:13:30.326859Z"
    }
   },
   "outputs": [],
   "source": [
    "base_df = blbg_data['FX'].sort_index()\n",
    "base_df = base_df.loc[~base_df.index.isin([pd.NaT]),:]"
   ]
  },
  {
   "cell_type": "code",
   "execution_count": 82,
   "id": "19044643",
   "metadata": {
    "ExecuteTime": {
     "end_time": "2021-09-08T06:13:32.158301Z",
     "start_time": "2021-09-08T06:13:30.767020Z"
    }
   },
   "outputs": [
    {
     "data": {
      "application/vnd.jupyter.widget-view+json": {
       "model_id": "a3ea6645ad7d4943ac46c18f4e4c165c",
       "version_major": 2,
       "version_minor": 0
      },
      "text/plain": [
       "Canvas(toolbar=Toolbar(toolitems=[('Home', 'Reset original view', 'home', 'home'), ('Back', 'Back to previous …"
      ]
     },
     "metadata": {},
     "output_type": "display_data"
    }
   ],
   "source": [
    "fig, axes = plt.subplots(4, 3, figsize = (15,10))\n",
    "fig.suptitle('FX', fontsize=16)\n",
    "base_df.plot(subplots=True, ax=axes.flatten()[:len(base_df.columns)], color = 'gray')\n",
    "\n",
    "for ax, col in zip(axes.flatten(), base_df.columns):\n",
    "    ax.set_title(col)\n",
    "    ax.set_xlabel('Date')\n",
    "    ax.get_legend().remove()\n",
    "\n",
    "plt.tight_layout()\n",
    "plt.show()"
   ]
  }
 ],
 "metadata": {
  "hide_input": false,
  "kernelspec": {
   "display_name": "Python 3",
   "language": "python",
   "name": "python3"
  },
  "language_info": {
   "codemirror_mode": {
    "name": "ipython",
    "version": 3
   },
   "file_extension": ".py",
   "mimetype": "text/x-python",
   "name": "python",
   "nbconvert_exporter": "python",
   "pygments_lexer": "ipython3",
   "version": "3.8.8"
  },
  "toc": {
   "base_numbering": 1,
   "nav_menu": {},
   "number_sections": true,
   "sideBar": true,
   "skip_h1_title": false,
   "title_cell": "Table of Contents",
   "title_sidebar": "Contents",
   "toc_cell": false,
   "toc_position": {},
   "toc_section_display": true,
   "toc_window_display": false
  },
  "varInspector": {
   "cols": {
    "lenName": 16,
    "lenType": 16,
    "lenVar": 40
   },
   "kernels_config": {
    "python": {
     "delete_cmd_postfix": "",
     "delete_cmd_prefix": "del ",
     "library": "var_list.py",
     "varRefreshCmd": "print(var_dic_list())"
    },
    "r": {
     "delete_cmd_postfix": ") ",
     "delete_cmd_prefix": "rm(",
     "library": "var_list.r",
     "varRefreshCmd": "cat(var_dic_list()) "
    }
   },
   "position": {
    "height": "326px",
    "left": "1054px",
    "right": "20px",
    "top": "120px",
    "width": "350px"
   },
   "types_to_exclude": [
    "module",
    "function",
    "builtin_function_or_method",
    "instance",
    "_Feature"
   ],
   "window_display": false
  }
 },
 "nbformat": 4,
 "nbformat_minor": 5
}
